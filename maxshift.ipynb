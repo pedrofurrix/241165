{
 "cells": [
  {
   "cell_type": "code",
   "execution_count": 1,
   "metadata": {},
   "outputs": [
    {
     "name": "stdout",
     "output_type": "stream",
     "text": [
      "\t1 \n"
     ]
    },
    {
     "data": {
      "text/plain": [
       "1.0"
      ]
     },
     "execution_count": 1,
     "metadata": {},
     "output_type": "execute_result"
    }
   ],
   "source": [
    "from neuron import h,gui\n",
    "import numpy as np\n",
    "from neuron.units import mV,ms,um\n",
    "import matplotlib.pyplot as plt\n",
    "import os\n",
    "import pandas as pd\n",
    "import stim\n",
    "from savedata import saveparams, save_es, savedata, saveplot\n",
    "import all_voltages\n",
    "import record_voltages_gpt\n",
    "\n",
    "# import load_files\n",
    "h.load_file(\"stdrun.hoc\")\n",
    "h.load_file(\"interpCoordinates.hoc\")\n",
    "h.load_file(\"setPointers.hoc\")\n",
    "h.load_file(\"calcVe_noGUI.hoc\")\n",
    "h.load_file(\"cellChooser.hoc\")\n",
    "h.load_file(\"setParams.hoc\")\n",
    "h.load_file(\"editMorphology.hoc\")\n",
    "h.load_file(\"plot_max.hoc\")\n",
    "h.load_file(\"field.hoc\")\n",
    "\n"
   ]
  },
  {
   "cell_type": "code",
   "execution_count": 2,
   "metadata": {},
   "outputs": [],
   "source": [
    "cell_id=16\n",
    "CF=5000\n",
    "amp=200\n",
    "filtered=False\n",
    "var=\"cfreq\"\n",
    "data_dir = \"C:\\\\Users\\\\Pc\\\\Documents\\\\Charite\\\\NEURON\\\\Data_processing\"\n",
    "bot_dir=os.path.join(data_dir,str(cell_id),var)"
   ]
  },
  {
   "cell_type": "code",
   "execution_count": 3,
   "metadata": {},
   "outputs": [
    {
     "name": "stdout",
     "output_type": "stream",
     "text": [
      "\t1 \n",
      "\t1 \n",
      "\t1 \n",
      "\t1 \n",
      "\t1 \n",
      "\t1 \n",
      "\t1 \n",
      "*---------*\n",
      "Loaded Blue Brain cell: L5_TTPC2_cADpyr232_1\n",
      "numSect was 417\n",
      "Created List of SectionRefs for 417 sections\n",
      "Assigned section types to each section in type_xtra\n",
      "Assigned branch orders using traverse_tree (assign_order2) in order_xtra\n",
      "Got main axon (method 2)\n",
      "Myelinating axon: Replacing 203 Axonal sections w/ 357 Myelin, 357 Node, 42 Unmyelin sections\n",
      "Adding myelin before the 1st bifurcation\n",
      "Scaled diameter of myelin sections using variable g-ratio\n",
      "numSect was 970\n",
      "Created List of SectionRefs for 970 sections\n",
      "Assigned section types to each section in type_xtra\n",
      "Assigned branch orders using traverse_tree (assign_order2) in order_xtra\n",
      "Inserted xtra and extracellular in all 2448 compartments\n",
      "Got main axon (method 2)\n",
      "Cell Loaded\n",
      "Calculated potentials for theta = 180 deg, phi = 0 deg\n"
     ]
    },
    {
     "data": {
      "text/plain": [
       "0.0"
      ]
     },
     "execution_count": 3,
     "metadata": {},
     "output_type": "execute_result"
    }
   ],
   "source": [
    "h.setParamsAdultHuman()\n",
    "h.myelinate_ax=1\n",
    "h.cell_chooser(cell_id)\n",
    "cell_name = h.cell_names.o(cell_id-1).s  # `.s` converts HOC String to Python string\n",
    "cell=h.cell\n",
    "theta=180\n",
    "phi=0\n",
    "h.theta = theta\n",
    "h.phi = phi\n",
    "h.stim_mode=2\n",
    "h.getes()"
   ]
  },
  {
   "cell_type": "code",
   "execution_count": 4,
   "metadata": {},
   "outputs": [
    {
     "name": "stdout",
     "output_type": "stream",
     "text": [
      "<class 'str'>\n",
      "7\n",
      "['cADpyr232_L5_TTPC2_8052133265[0].soma[0](0.5)', 'cADpyr232_L5_TTPC2_8052133265[0].axon[0](0.0714286)', 'cADpyr232_L5_TTPC2_8052133265[0].axon[0](0.214286)', '...', 'Unmyelin[39](0.5)', 'Unmyelin[40](0.5)', 'Unmyelin[41](0.5)']\n",
      "Loaded 2448 max_shift values.\n",
      "Total segments in cell: 2448\n",
      "Seg list incomplete, generating new one!\n",
      "Min Value:9.595043182373047\n",
      "Max Value:124.25678634643555\n",
      "\n",
      "[2316]\n",
      "Node[267](0.5)\n",
      "9.595043182373047 124.25678634643555\n"
     ]
    }
   ],
   "source": [
    "from maxshift_plot import assign_v_values\n",
    "cell,min_value,max_value,max_segments,max_seg=assign_v_values(bot_dir,CF,amp,filename=\"pshift\",cell=cell,max_shift=None,filtered=filtered)\n",
    "ps=h.PlotShape(True)\n",
    "print(max_seg)\n",
    "print(min_value,max_value)\n"
   ]
  },
  {
   "cell_type": "code",
   "execution_count": 5,
   "metadata": {},
   "outputs": [],
   "source": [
    "from maxshift_plot import scale_diams\n",
    "scale=3\n",
    "cell=scale_diams(cell,scale=scale)"
   ]
  },
  {
   "cell_type": "code",
   "execution_count": null,
   "metadata": {},
   "outputs": [],
   "source": [
    "# from maxshift_plot import create_e_field_vector\n",
    "# len_um=800\n",
    "# sElec=create_e_field_vector(theta,phi,len_um,ps)\n",
    "sElec_list = h.SectionList()\n",
    "# sElec_list.append(sec=sElec)"
   ]
  },
  {
   "cell_type": "code",
   "execution_count": null,
   "metadata": {},
   "outputs": [
    {
     "name": "stdout",
     "output_type": "stream",
     "text": [
      "Node[267](0.5)\n"
     ]
    },
    {
     "data": {
      "image/png": "[encoded data removed]",
      "text/plain": [
       "<Figure size 640x480 with 1 Axes>"
      ]
     },
     "metadata": {},
     "output_type": "display_data"
    },
    {
     "ename": "NameError",
     "evalue": "name 'sElec_list' is not defined",
     "output_type": "error",
     "traceback": [
      "\u001b[1;31m---------------------------------------------------------------------------\u001b[0m",
      "\u001b[1;31mNameError\u001b[0m                                 Traceback (most recent call last)",
      "Cell \u001b[1;32mIn[6], line 5\u001b[0m\n\u001b[0;32m      2\u001b[0m shape,fig\u001b[38;5;241m=\u001b[39mmark_highest_v(cell,max_seg,max_value,min_value)\n\u001b[0;32m      3\u001b[0m \u001b[38;5;66;03m# Store in SectionList for visualization\u001b[39;00m\n\u001b[1;32m----> 5\u001b[0m shape\u001b[38;5;241m.\u001b[39mcolor_list(\u001b[43msElec_list\u001b[49m,\u001b[38;5;241m2\u001b[39m)\n\u001b[0;32m      6\u001b[0m shape\u001b[38;5;241m.\u001b[39mexec_menu(\u001b[38;5;124m\"\u001b[39m\u001b[38;5;124mPlot Shape\u001b[39m\u001b[38;5;124m\"\u001b[39m)\n\u001b[0;32m      8\u001b[0m figname\u001b[38;5;241m=\u001b[39m\u001b[38;5;124m\"\u001b[39m\u001b[38;5;124mCell1\u001b[39m\u001b[38;5;124m\"\u001b[39m\n",
      "\u001b[1;31mNameError\u001b[0m: name 'sElec_list' is not defined"
     ]
    },
    {
     "ename": "",
     "evalue": "",
     "output_type": "error",
     "traceback": [
      "\u001b[1;31mThe Kernel crashed while executing code in the current cell or a previous cell. \n",
      "\u001b[1;31mPlease review the code in the cell(s) to identify a possible cause of the failure. \n",
      "\u001b[1;31mClick <a href='https://aka.ms/vscodeJupyterKernelCrash'>here</a> for more info. \n",
      "\u001b[1;31mView Jupyter <a href='command:jupyter.viewOutput'>log</a> for further details."
     ]
    }
   ],
   "source": [
    "from maxshift_plot import mark_highest_v\n",
    "shape,fig=mark_highest_v(cell,max_seg,max_value,min_value)\n",
    "# Store in SectionList for visualization\n",
    "\n",
    "shape.color_list(sElec_list,2)\n",
    "shape.exec_menu(\"Plot Shape\")\n",
    "\n",
    "figname=\"Cell1\"\n",
    "savefig=False\n",
    "if savefig:\n",
    "        plt.savefig(figname+'.eps', format='eps')\n"
   ]
  },
  {
   "cell_type": "code",
   "execution_count": null,
   "metadata": {},
   "outputs": [],
   "source": [
    "ps.variable(\"v\")\n",
    "ps.scale(min_value,max_value)\n",
    "ps.exec_menu(\"Shape Plot\")\n",
    "ps.exec_menu('Show Diam')\n",
    "ps.exec_menu('View = plot')\n",
    "ps.show(0)\n",
    "\n",
    "# ps.size(-800, 800, -800, 800)  # Adjust X and Y limits\n",
    "# ps.view(-1000, -1000, 2000, 2000, 100, 100, 800, 800)  # Zoom out\n",
    "# ps.view(-416.826, -486.465, 813.145, 959.13, 151, 52, 559.68, 660.16)\n",
    "path=os.path.join(data_dir,str(cell_id),\"shape_voltages.eps\")\n",
    "\n",
    "\n",
    "\n",
    "#Cell 6 and 16\n",
    "# scale=3\n",
    "# for sec in sElec_list:\n",
    "#     if 'soma' not in sec.name():\n",
    "#         for i in range(sec.n3d()):\n",
    "#             d = sec.diam3d(i)\n",
    "#             sec.pt3dchange(i, d * scale)\n",
    "            \n",
    "# ps.color_list(sElec_list,4)\n",
    "# ps.printfile(path)\n",
    "\n",
    "# fatten the lines in the image to make it easier to see\n",
    "lines = []\n",
    "with open(path) as f:\n",
    "    for line in f:\n",
    "        line = line.strip()\n",
    "        if line == '0 setlinewidth':\n",
    "            line = '5 setlinewidth'\n",
    "        lines.append(line)\n",
    "# now rewrite the file with the thicker linewidth\n",
    "with open(path, 'w') as f:\n",
    "    for line in lines:\n",
    "        f.write(line + '\\n')\n",
    "# # now convert it to a png\n",
    "# png_filename = os.path.join(data_dir,str(cell_id),\"shape_voltages.png\")\n",
    "# os.system('convert %s -crop 558x660+0+0 %s' % (path, png_filename))\n",
    "\n",
    "import subprocess\n",
    "\n",
    "# Set file paths\n",
    "eps_file = path\n",
    "png_file = eps_file.replace(\".eps\", \".png\")\n",
    "\n",
    "# Use Ghostscript to convert EPS to PNG\n",
    "gs_command = [\n",
    "    \"gswin64c\",  # Use \"gs\" for Linux/macOS, \"gswin64c\" for Windows\n",
    "    \"-dNOPAUSE\", \"-dBATCH\", \"-sDEVICE=pngalpha\",\n",
    "    \"-r300\",  # Resolution (DPI)\n",
    "    f\"-sOutputFile={png_file}\", eps_file\n",
    "]\n",
    "\n",
    "# Run the command\n",
    "subprocess.run(gs_command, check=True)\n",
    "\n",
    "print(f\"Converted {eps_file} to {png_file}\")"
   ]
  },
  {
   "cell_type": "code",
   "execution_count": null,
   "metadata": {},
   "outputs": [],
   "source": [
    "from maxshift_plot import plot_maxshift\n",
    "fig,cell,shape_plot=plot_maxshift(bot_dir,cell,max_value,min_value,max_seg,mark=False,sElec_list=sElec_list,scale=1)\n",
    "# shape_plot.color_list(sElec_list,4)\n",
    "# shape_plot.show(1)  # Refresh the plot after setting the color\n",
    "\n",
    "# fig.show()\n"
   ]
  },
  {
   "cell_type": "code",
   "execution_count": null,
   "metadata": {},
   "outputs": [],
   "source": [
    "from maxshift_plot import plot_voltage_distribution\n",
    "figname=f\"voltage_plot_{cell_id}\"\n",
    "plot_voltage_distribution(cell,list=sElec_list,ticklabels=True,savefig=False,figname=figname)"
   ]
  }
 ],
 "metadata": {
  "kernelspec": {
   "display_name": ".venv",
   "language": "python",
   "name": "python3"
  },
  "language_info": {
   "codemirror_mode": {
    "name": "ipython",
    "version": 3
   },
   "file_extension": ".py",
   "mimetype": "text/x-python",
   "name": "python",
   "nbconvert_exporter": "python",
   "pygments_lexer": "ipython3",
   "version": "3.12.5"
  }
 },
 "nbformat": 4,
 "nbformat_minor": 2
}
